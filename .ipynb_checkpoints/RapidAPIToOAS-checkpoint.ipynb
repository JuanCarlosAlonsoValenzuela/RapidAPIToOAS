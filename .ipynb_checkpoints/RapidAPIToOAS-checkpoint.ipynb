{
 "cells": [
  {
   "cell_type": "markdown",
   "metadata": {},
   "source": [
    "# RAPIDAPIToOAS"
   ]
  },
  {
   "cell_type": "code",
   "execution_count": 1,
   "metadata": {},
   "outputs": [],
   "source": [
    "from bs4 import BeautifulSoup\n",
    "from selenium import webdriver\n",
    "from selenium.webdriver.common.by import By\n",
    "from selenium.webdriver.support.ui import WebDriverWait\n",
    "from selenium.webdriver.support import expected_conditions as EC\n",
    "from urllib.request import urlopen, Request\n",
    "import re\n",
    "import json\n",
    "\n",
    "import yaml"
   ]
  },
  {
   "cell_type": "code",
   "execution_count": 2,
   "metadata": {},
   "outputs": [
    {
     "ename": "SyntaxError",
     "evalue": "invalid syntax (<ipython-input-2-bf53d6cfe793>, line 4)",
     "output_type": "error",
     "traceback": [
      "\u001b[1;36m  File \u001b[1;32m\"<ipython-input-2-bf53d6cfe793>\"\u001b[1;36m, line \u001b[1;32m4\u001b[0m\n\u001b[1;33m    'Api-football' : 'https://rapidapi.com/api-sports/api/api-football-beta'\u001b[0m\n\u001b[1;37m                   ^\u001b[0m\n\u001b[1;31mSyntaxError\u001b[0m\u001b[1;31m:\u001b[0m invalid syntax\n"
     ]
    }
   ],
   "source": [
    "url_map = {\n",
    "    'ChickenCoop' : 'https://rapidapi.com/valkiki/api/chicken-coop?endpoint=apiendpoint_550d9371-2ad0-445c-af7c-624c52c9c66f',\n",
    "    'Api-basketball' : 'https://rapidapi.com/api-sports/api/api-basketball',\n",
    "    'Api-football' : 'https://rapidapi.com/api-sports/api/api-football-beta'\n",
    "}"
   ]
  },
  {
   "cell_type": "code",
   "execution_count": null,
   "metadata": {},
   "outputs": [],
   "source": [
    "api_spec_url = url_map['Api-football']"
   ]
  },
  {
   "cell_type": "code",
   "execution_count": null,
   "metadata": {},
   "outputs": [],
   "source": [
    "def remove_tags(text):\n",
    "    TAG_RE = re.compile(r'<[^>]+>')\n",
    "    return TAG_RE.sub('', str(text)).strip()"
   ]
  },
  {
   "cell_type": "code",
   "execution_count": null,
   "metadata": {},
   "outputs": [],
   "source": [
    "def obtain_html(url):\n",
    "    browser = webdriver.Firefox()\n",
    "    browser.get(url)\n",
    "    try:\n",
    "        element = WebDriverWait(browser, 10).until(\n",
    "            EC.presence_of_element_located((By.CLASS_NAME, \"api-page-body\"))\n",
    "        )\n",
    "    finally:\n",
    "        browser.quit\n",
    "    bs = BeautifulSoup(browser.page_source, \"html.parser\")\n",
    "    data = remove_tags(bs.find('script', {'id':'__NEXT_DATA__'}))\n",
    "    return bs, data"
   ]
  },
  {
   "cell_type": "code",
   "execution_count": null,
   "metadata": {},
   "outputs": [],
   "source": [
    "html, data = obtain_html(api_spec_url)"
   ]
  },
  {
   "cell_type": "code",
   "execution_count": null,
   "metadata": {},
   "outputs": [],
   "source": [
    "html"
   ]
  },
  {
   "cell_type": "code",
   "execution_count": null,
   "metadata": {},
   "outputs": [],
   "source": [
    "data"
   ]
  },
  {
   "cell_type": "code",
   "execution_count": null,
   "metadata": {},
   "outputs": [],
   "source": [
    "json_data = json.loads(data)"
   ]
  },
  {
   "cell_type": "code",
   "execution_count": null,
   "metadata": {},
   "outputs": [],
   "source": [
    "json_data"
   ]
  },
  {
   "cell_type": "code",
   "execution_count": null,
   "metadata": {},
   "outputs": [],
   "source": [
    "json_data.keys()"
   ]
  },
  {
   "cell_type": "code",
   "execution_count": null,
   "metadata": {},
   "outputs": [],
   "source": [
    "json_data.keys()"
   ]
  },
  {
   "cell_type": "code",
   "execution_count": null,
   "metadata": {},
   "outputs": [],
   "source": [
    "# print(json_data['dataManager'].keys()) str\n",
    "print(json_data['props'].keys())\n",
    "# print(json_data['page'].keys()) str\n",
    "# print(json_data['query'].keys()) Dos parámetros str dentro\n",
    "# print(json_data['buildId'].keys()) str\n",
    "# print(json_data['dynamicBuildId'].keys()) bool"
   ]
  },
  {
   "cell_type": "code",
   "execution_count": null,
   "metadata": {},
   "outputs": [],
   "source": [
    "###################################### Parámetros dentro de query\n",
    "# query = json_data['query']\n",
    "# dev = query['dev']\n",
    "# apiSlugifiedName = query['apiSlugifiedName']\n",
    "# print(dev) str\n",
    "# print(apiSlugifiedName) str"
   ]
  },
  {
   "cell_type": "code",
   "execution_count": null,
   "metadata": {},
   "outputs": [],
   "source": [
    "#### Parámetros dentro de props\n",
    "props = json_data['props']\n",
    "\n",
    "pageProps = props['pageProps']\n",
    "translations = props['translations']\n",
    "activeLocale = props['activeLocale']\n",
    "initialReduxState = props['initialReduxState']\n",
    "\n",
    "print(pageProps.keys())\n",
    "print(translations.keys()) \n",
    "# print(activeLocale.keys()) # str\n",
    "print(initialReduxState.keys()) # This one"
   ]
  },
  {
   "cell_type": "code",
   "execution_count": null,
   "metadata": {},
   "outputs": [],
   "source": [
    "api = initialReduxState['api']"
   ]
  },
  {
   "cell_type": "code",
   "execution_count": null,
   "metadata": {},
   "outputs": [],
   "source": [
    "api.keys()"
   ]
  },
  {
   "cell_type": "code",
   "execution_count": null,
   "metadata": {},
   "outputs": [],
   "source": [
    "cache = api['cache']"
   ]
  },
  {
   "cell_type": "code",
   "execution_count": null,
   "metadata": {},
   "outputs": [],
   "source": [
    "cache.keys()"
   ]
  },
  {
   "cell_type": "code",
   "execution_count": null,
   "metadata": {},
   "outputs": [],
   "source": [
    "# cache"
   ]
  },
  {
   "cell_type": "code",
   "execution_count": null,
   "metadata": {},
   "outputs": [],
   "source": [
    "api_ed84 = cache[list(cache.keys())[0]]"
   ]
  },
  {
   "cell_type": "code",
   "execution_count": null,
   "metadata": {},
   "outputs": [],
   "source": [
    "api_ed84.keys()"
   ]
  },
  {
   "cell_type": "code",
   "execution_count": null,
   "metadata": {},
   "outputs": [],
   "source": [
    "version = api_ed84['version'] # No parece estar dentro"
   ]
  },
  {
   "cell_type": "code",
   "execution_count": null,
   "metadata": {},
   "outputs": [],
   "source": [
    "endpoints = version['endpoints']"
   ]
  },
  {
   "cell_type": "markdown",
   "metadata": {},
   "source": [
    "## Generate paths from endpoints"
   ]
  },
  {
   "cell_type": "code",
   "execution_count": null,
   "metadata": {},
   "outputs": [],
   "source": [
    "# paths:\n",
    "#   /pet:\n",
    "#     post:\n",
    "#       tags:\n",
    "#       - \"pet\"\n",
    "#       summary: \"Add a new pet to the store\"\n",
    "#       description: \"\"\n",
    "#       operationId: \"addPet\"\n",
    "#       consumes:\n",
    "#       - \"application/json\"\n",
    "#       - \"application/xml\"\n",
    "#       produces:\n",
    "#       - \"application/xml\"\n",
    "#       - \"application/json\"\n",
    "#       parameters:\n",
    "#       - in: \"body\"\n",
    "#         name: \"body\"\n",
    "#         description: \"Pet object that needs to be added to the store\"\n",
    "#         required: true\n",
    "#         schema:\n",
    "#           $ref: \"#/definitions/Pet\"\n",
    "#       responses:\n",
    "#         \"405\":\n",
    "#           description: \"Invalid input\"\n",
    "#       security:\n",
    "#       - petstore_auth:\n",
    "#         - \"write:pets\"\n",
    "#         - \"read:pets\""
   ]
  },
  {
   "cell_type": "markdown",
   "metadata": {},
   "source": [
    "### Lista de TODOS:\n",
    "- Schemes\n",
    "- Group (rapidapi)\n"
   ]
  },
  {
   "cell_type": "code",
   "execution_count": null,
   "metadata": {},
   "outputs": [],
   "source": [
    "version.keys()"
   ]
  },
  {
   "cell_type": "code",
   "execution_count": null,
   "metadata": {},
   "outputs": [],
   "source": [
    "version['description']"
   ]
  },
  {
   "cell_type": "code",
   "execution_count": null,
   "metadata": {},
   "outputs": [],
   "source": [
    "# def generate_first_part(version):\n",
    "#     res = []\n",
    "#     res.append(\"swagger: '2.0'\")\n",
    "#     res.append(\"info: \")\n",
    "#     res.append('\\t' + 'description: ' + version['description'])\n",
    "#     res.append('\\t' + 'title: ' + version['api'])\n",
    "#     res.append('\\t' + 'version: ' + version['id'])\n",
    "#     res.append('host: ' + version['publicdns'][0]['address'])\n",
    "#     res.append('basePath: /')\n",
    "#     res.append('schemes:')\n",
    "#     res.append('\\t-https')\n",
    "#     res.append('')\n",
    "    \n",
    "#     return res"
   ]
  },
  {
   "cell_type": "code",
   "execution_count": null,
   "metadata": {},
   "outputs": [],
   "source": [
    "# TODO: Add headers (API key and host)\n",
    "# TODO: Body parameters (for POST methods)\n",
    "# TODO: Check for regular expressions (like in date [yyyy-mm-dd])\n",
    "# def generate_paths(endpoints):\n",
    "#     res = []\n",
    "#     res.append('paths:')\n",
    "#     for path in endpoints:\n",
    "#         res.append('\\t' + path['route'] + ':')\n",
    "        \n",
    "#         res.append(2*'\\t' + path['method'].lower() + ':')\n",
    "        \n",
    "#         res.append(3*'\\t' + 'summary: ' + path['summary'] ) if path['summary'] is not None else 0\n",
    "#         res.append(3*'\\t' + 'description: ' + path['description']) if path['description'] is not None else 0\n",
    "#         res.append(3*'\\t' + 'operationId: ' + path['id']) if path['id'] is not None else 0\n",
    "        \n",
    "#         # RESPONSES\n",
    "#         res.append(3*'\\t' + 'responses: ' ) \n",
    "#         res.append(4*\"\\t\" + \"'200':\" ) \n",
    "#         res.append(5*\"\\t\" + \"description: OK\" ) \n",
    "#         res.append(4*\"\\t\" + \"default:\" ) \n",
    "#         res.append(5*\"\\t\" + \"description: Unexpected error\" )\n",
    "        \n",
    "#         # TODO: Complete\n",
    "# #         res.append(3*'\\t' + 'produces: ' ) \n",
    "# #         res.append(3*'\\t' + 'consumes: ' ) \n",
    "#         # TODO: Security:    authentication (4075)\n",
    "        \n",
    "        \n",
    "#         res.append(3*'\\t' + 'parameters: ' ) if path['params'] is not None else 0\n",
    "#         # TODO: Header parameters (check for repetitions)\n",
    "        \n",
    "#         # PARAMETERS\n",
    "#         for parameter in path['params']['parameters'] if path['params'] is not None else []:\n",
    "#             res.append(4*'\\t' + '- name: ' + parameter['name'])\n",
    "            \n",
    "#             inType = 'query' if parameter['querystring'] else 'path'\n",
    "#             res.append(4*'\\t' + '  in: ' + inType)\n",
    "            \n",
    "#             requiredBool=\"true\" if parameter['condition'] =='REQUIRED' else \"false\"\n",
    "#             res.append(4*'\\t' + '  required: ' + requiredBool) \n",
    "#             res.append(4*'\\t' + '  description: | \\n' + 5*'\\t' + parameter['description']) if 'description' in list(parameter.keys()) else 0\n",
    "#             res.append(4*'\\t' + '  example: ' + parameter['value']) if 'value' in list(parameter.keys()) else 0\n",
    "            \n",
    "#             # Schema\n",
    "            \n",
    "#             if parameter['paramType']!='ENUM':\n",
    "#                 res.append(5*'\\t' + 'type: ' + parameter['paramType'].lower()) if parameter['paramType'].split(\" \")[0] !='DATE' else res.append(5*'\\t' + 'type: ' + parameter['paramType'].lower().split(\" \")[0])\n",
    "#                 res.append(5*'\\t' + 'pattern: ' + \" \".join(parameter['paramType'].split(\" \")[1:])) if parameter['paramType'].split(\" \")[0]=='DATE' and len(parameter['paramType'].split(\" \"))>1 else 0\n",
    "#             else:\n",
    "#                 res.append(4*'\\t' + '  schema:')\n",
    "#                 res.append(5*'\\t' + 'type: string')\n",
    "#                 res.append(5*'\\t' + 'enum:')\n",
    "                \n",
    "#                 for option in parameter['options']:\n",
    "#                     res.append(6*'\\t' + '- ' + option)\n",
    "        \n",
    "            \n",
    "#     return res"
   ]
  },
  {
   "cell_type": "code",
   "execution_count": null,
   "metadata": {},
   "outputs": [],
   "source": [
    "def print_oas():\n",
    "    print(\"# Type (dentro de schema) no se tabula correctamente\")\n",
    "    oas = []\n",
    "    oas = oas + generate_first_part(version)\n",
    "    oas = oas + generate_paths(endpoints)\n",
    "    for line in oas:\n",
    "        print(line)"
   ]
  },
  {
   "cell_type": "code",
   "execution_count": null,
   "metadata": {
    "scrolled": false
   },
   "outputs": [],
   "source": [
    "def generate_first_part(version):\n",
    "    res = {\n",
    "        'swagger' : '2.0',\n",
    "        'info' : {\n",
    "            'description': 'Description placeholder',\n",
    "            'title': 'Title placeholder',\n",
    "            'version': 'Version placeholder'\n",
    "        },\n",
    "        'host': 'petstore.swagger.io',\n",
    "        'basePath' : '/',\n",
    "        'schemes' : ['https']\n",
    "    }\n",
    "    \n",
    "    res['info']['description'] = version['description']\n",
    "    res['info']['title'] = version['api']\n",
    "    res['info']['version'] = version['id']\n",
    "    \n",
    "    res['host'] = version['publicdns'][0]['address']\n",
    "    \n",
    "    return yaml.dump(res)"
   ]
  },
  {
   "cell_type": "code",
   "execution_count": null,
   "metadata": {},
   "outputs": [],
   "source": [
    "print(generate_first_part(version))"
   ]
  },
  {
   "cell_type": "code",
   "execution_count": null,
   "metadata": {},
   "outputs": [],
   "source": [
    "# TODO: Regular expressions and datetime\n",
    "def generate_paths(endpoints):\n",
    "    res = {\n",
    "        'paths': {}\n",
    "    }\n",
    "    \n",
    "    for path in endpoints:\n",
    "        \n",
    "        route = path['route']\n",
    "        method = path['method'].lower()\n",
    "        \n",
    "        p = {method :{\n",
    "                'summary': \"\",\n",
    "                'description': \"\",\n",
    "                'operationId' : \"\",\n",
    "                'parameters' : [],\n",
    "                'responses' : {\n",
    "                    '200' : {\n",
    "                        'description':'Ok'\n",
    "                    },\n",
    "                    'default':{\n",
    "                        'description':'Unexpected error'\n",
    "                    }\n",
    "                }\n",
    "                \n",
    "            }  \n",
    "        }\n",
    "        \n",
    "        p[method]['summary'] = path['summary']  if path['summary'] is not None else \"\"\n",
    "        p[method]['description'] = path['description'] if path['description'] is not None else \"\"\n",
    "        p[method]['operationId'] = path['id'] if path['id'] is not None else \"\"\n",
    "        \n",
    "        \n",
    "        for parameter in path['params']['parameters'] if path['params'] is not None else []:\n",
    "            param = {\n",
    "                'name': '',\n",
    "                'in': '',\n",
    "                'required' : True,\n",
    "                'description' : '',\n",
    "            }\n",
    "            \n",
    "            inType = 'query' if parameter['querystring'] else 'path'\n",
    "            requiredBool=True if parameter['condition'] =='REQUIRED' else False\n",
    "            \n",
    "            \n",
    "            param['name'] = parameter['name']\n",
    "            param['in'] = inType\n",
    "            param['required'] = requiredBool\n",
    "            param['description'] = parameter['description'] if 'description' in list(parameter.keys()) else \" \"\n",
    "            \n",
    "#             if 'value' in list(parameter.keys()):\n",
    "#                 param['example'] = parameter['value']\n",
    "                \n",
    "            # SCHEMA\n",
    "            if parameter['paramType'] =='DATE (YYYY-MM-DD)':\n",
    "                typeList = parameter['paramType'].split(\" \")\n",
    "                param['type'] = 'string'\n",
    "                param['pattern'] = 'date'\n",
    "            elif parameter['paramType'] == 'ENUM':\n",
    "                param['schema'] = {\n",
    "                    'type' : 'string',\n",
    "                    'enum' : parameter['options']\n",
    "                }\n",
    "            else:\n",
    "                param['type'] = parameter['paramType'].lower()\n",
    "                # Caso normal\n",
    "                \n",
    "            \n",
    "            p[method]['parameters'].append(param)\n",
    "            \n",
    "        \n",
    "        res['paths'][route] = p\n",
    "    return yaml.dump(res)"
   ]
  },
  {
   "cell_type": "code",
   "execution_count": null,
   "metadata": {
    "scrolled": false
   },
   "outputs": [],
   "source": [
    "first_part = generate_first_part(version)\n",
    "print(first_part)\n",
    "\n",
    "endpoints_part = generate_paths(endpoints)\n",
    "print(endpoints_part)\n"
   ]
  },
  {
   "cell_type": "code",
   "execution_count": null,
   "metadata": {},
   "outputs": [],
   "source": []
  }
 ],
 "metadata": {
  "kernelspec": {
   "display_name": "Python 3",
   "language": "python",
   "name": "python3"
  },
  "language_info": {
   "codemirror_mode": {
    "name": "ipython",
    "version": 3
   },
   "file_extension": ".py",
   "mimetype": "text/x-python",
   "name": "python",
   "nbconvert_exporter": "python",
   "pygments_lexer": "ipython3",
   "version": "3.7.3"
  }
 },
 "nbformat": 4,
 "nbformat_minor": 2
}
