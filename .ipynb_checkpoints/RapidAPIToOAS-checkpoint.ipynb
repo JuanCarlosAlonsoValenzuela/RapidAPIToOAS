{
 "cells": [
  {
   "cell_type": "markdown",
   "metadata": {},
   "source": [
    "# RAPIDAPIToOAS"
   ]
  },
  {
   "cell_type": "code",
   "execution_count": 1,
   "metadata": {},
   "outputs": [],
   "source": [
    "from bs4 import BeautifulSoup\n",
    "from urllib.request import urlopen, Request\n",
    "import re\n",
    "import json"
   ]
  },
  {
   "cell_type": "code",
   "execution_count": 2,
   "metadata": {},
   "outputs": [],
   "source": [
    "url_map = {\n",
    "    'ChickenCoop' : 'https://rapidapi.com/valkiki/api/chicken-coop?endpoint=apiendpoint_550d9371-2ad0-445c-af7c-624c52c9c66f',\n",
    "    'Api-basketball' : 'https://rapidapi.com/api-sports/api/api-basketball'\n",
    "}"
   ]
  },
  {
   "cell_type": "code",
   "execution_count": 3,
   "metadata": {},
   "outputs": [],
   "source": [
    "api_spec_url = url_map['ChickenCoop']"
   ]
  },
  {
   "cell_type": "code",
   "execution_count": 4,
   "metadata": {},
   "outputs": [],
   "source": [
    "def remove_tags(text):\n",
    "    TAG_RE = re.compile(r'<[^>]+>')\n",
    "    return TAG_RE.sub('', str(text)).strip()"
   ]
  },
  {
   "cell_type": "code",
   "execution_count": 5,
   "metadata": {},
   "outputs": [],
   "source": [
    "def obtain_data(url):\n",
    "    hdr = {'User-Agent': 'Mozilla/5.0'}\n",
    "    req = Request(url,headers=hdr)\n",
    "    page = urlopen(req)\n",
    "    html = page.read()\n",
    "    bs = BeautifulSoup(html)\n",
    "    return remove_tags(bs.find('script', {'id':'__NEXT_DATA__'}))"
   ]
  },
  {
   "cell_type": "code",
   "execution_count": 6,
   "metadata": {},
   "outputs": [],
   "source": [
    "# bs = BeautifulSoup(obtain_bs(api_spec_url))"
   ]
  },
  {
   "cell_type": "code",
   "execution_count": 7,
   "metadata": {},
   "outputs": [],
   "source": [
    "# data = remove_tags(bs.find('script', {'id':'__NEXT_DATA__'}))\n",
    "data = obtain_data(api_spec_url)"
   ]
  },
  {
   "cell_type": "code",
   "execution_count": 8,
   "metadata": {},
   "outputs": [],
   "source": [
    "json_data = json.loads(data)"
   ]
  },
  {
   "cell_type": "code",
   "execution_count": 9,
   "metadata": {},
   "outputs": [
    {
     "data": {
      "text/plain": [
       "dict_keys(['dataManager', 'props', 'page', 'query', 'buildId', 'dynamicBuildId'])"
      ]
     },
     "execution_count": 9,
     "metadata": {},
     "output_type": "execute_result"
    }
   ],
   "source": [
    "json_data.keys()"
   ]
  },
  {
   "cell_type": "code",
   "execution_count": 10,
   "metadata": {},
   "outputs": [],
   "source": [
    "# json_data = json_data['initialReduxState']"
   ]
  },
  {
   "cell_type": "code",
   "execution_count": 11,
   "metadata": {},
   "outputs": [],
   "source": [
    "# json_data = json_data['endpoints']"
   ]
  },
  {
   "cell_type": "code",
   "execution_count": 12,
   "metadata": {},
   "outputs": [
    {
     "data": {
      "text/plain": [
       "dict_keys(['dataManager', 'props', 'page', 'query', 'buildId', 'dynamicBuildId'])"
      ]
     },
     "execution_count": 12,
     "metadata": {},
     "output_type": "execute_result"
    }
   ],
   "source": [
    "json_data.keys()"
   ]
  },
  {
   "cell_type": "code",
   "execution_count": 13,
   "metadata": {},
   "outputs": [
    {
     "name": "stdout",
     "output_type": "stream",
     "text": [
      "dict_keys(['pageProps', 'translations', 'activeLocale', 'initialReduxState'])\n"
     ]
    }
   ],
   "source": [
    "# print(json_data['dataManager'].keys()) str\n",
    "print(json_data['props'].keys())\n",
    "# print(json_data['page'].keys()) str\n",
    "# print(json_data['query'].keys()) Dos parámetros str dentro\n",
    "# print(json_data['buildId'].keys()) str\n",
    "# print(json_data['dynamicBuildId'].keys()) bool"
   ]
  },
  {
   "cell_type": "code",
   "execution_count": 14,
   "metadata": {},
   "outputs": [],
   "source": [
    "###################################### Parámetros dentro de query\n",
    "# query = json_data['query']\n",
    "# dev = query['dev']\n",
    "# apiSlugifiedName = query['apiSlugifiedName']\n",
    "# print(dev) str\n",
    "# print(apiSlugifiedName) str"
   ]
  },
  {
   "cell_type": "code",
   "execution_count": 15,
   "metadata": {},
   "outputs": [
    {
     "name": "stdout",
     "output_type": "stream",
     "text": [
      "dict_keys(['dev', 'apiSlugifiedName', 'endpointId', 'query', 'pathname', 'asPath'])\n",
      "dict_keys(['en-US'])\n",
      "dict_keys(['search', 'httpState', 'collections', 'categories', 'user', 'appState', 'router', 'api', 'team', 'discussions', 'profile', 'favoritesApis', 'entities', 'payment', 'tags', 'gateways', 'tutorials', 'versions', 'searchBlogPosts', 'accessControl'])\n"
     ]
    }
   ],
   "source": [
    "#### Parámetros dentro de props\n",
    "props = json_data['props']\n",
    "\n",
    "pageProps = props['pageProps']\n",
    "translations = props['translations']\n",
    "activeLocale = props['activeLocale']\n",
    "initialReduxState = props['initialReduxState']\n",
    "\n",
    "print(pageProps.keys())\n",
    "print(translations.keys()) \n",
    "# print(activeLocale.keys()) # str\n",
    "print(initialReduxState.keys()) # This one"
   ]
  },
  {
   "cell_type": "code",
   "execution_count": 16,
   "metadata": {},
   "outputs": [],
   "source": [
    "api = initialReduxState['api']"
   ]
  },
  {
   "cell_type": "code",
   "execution_count": 17,
   "metadata": {},
   "outputs": [
    {
     "data": {
      "text/plain": [
       "dict_keys(['cache', 'selectedId', 'selectedEndpoint', 'isCurrentEndpointInSubscribedPlanFeatures', 'endpointParams', 'gatewayParams', 'snippetTemplates', 'selectedSnippetTemplate', 'testEndpointResults'])"
      ]
     },
     "execution_count": 17,
     "metadata": {},
     "output_type": "execute_result"
    }
   ],
   "source": [
    "api.keys()"
   ]
  },
  {
   "cell_type": "code",
   "execution_count": 18,
   "metadata": {},
   "outputs": [],
   "source": [
    "cache = api['cache']"
   ]
  },
  {
   "cell_type": "code",
   "execution_count": 19,
   "metadata": {},
   "outputs": [
    {
     "data": {
      "text/plain": [
       "dict_keys(['api_5e3c3c2f-73d2-4d0b-9b64-a16d24a53e28'])"
      ]
     },
     "execution_count": 19,
     "metadata": {},
     "output_type": "execute_result"
    }
   ],
   "source": [
    "cache.keys()"
   ]
  },
  {
   "cell_type": "code",
   "execution_count": 20,
   "metadata": {},
   "outputs": [],
   "source": [
    "# cache"
   ]
  },
  {
   "cell_type": "code",
   "execution_count": 21,
   "metadata": {},
   "outputs": [],
   "source": [
    "api_ed84 = cache[list(cache.keys())[0]]"
   ]
  },
  {
   "cell_type": "code",
   "execution_count": 22,
   "metadata": {},
   "outputs": [
    {
     "data": {
      "text/plain": [
       "dict_keys(['id', 'name', 'official', 'title', 'redirect', 'redirectLink', 'installsAllTime', 'pricing', 'ownerId', 'slugifiedName', 'gateways', 'visibility', 'allowedContext', 'score', 'owner', 'category', 'createdAt', 'updatedAt', 'type', 'proxy', 'rating', 'currentUserRateApi', 'apiSpotLights', 'followers', 'issues', 'versions', 'version', 'topFollowers', 'apiReference', 'spotlights'])"
      ]
     },
     "execution_count": 22,
     "metadata": {},
     "output_type": "execute_result"
    }
   ],
   "source": [
    "api_ed84.keys()"
   ]
  },
  {
   "cell_type": "code",
   "execution_count": 23,
   "metadata": {},
   "outputs": [],
   "source": [
    "version = api_ed84['version'] # No parece estar dentro"
   ]
  },
  {
   "cell_type": "code",
   "execution_count": 24,
   "metadata": {},
   "outputs": [],
   "source": [
    "endpoints = version['endpoints']"
   ]
  },
  {
   "cell_type": "markdown",
   "metadata": {},
   "source": [
    "## Generate paths from endpoints"
   ]
  },
  {
   "cell_type": "code",
   "execution_count": null,
   "metadata": {},
   "outputs": [],
   "source": [
    "paths:\n",
    "  /pet:\n",
    "    post:\n",
    "      tags:\n",
    "      - \"pet\"\n",
    "      summary: \"Add a new pet to the store\"\n",
    "      description: \"\"\n",
    "      operationId: \"addPet\"\n",
    "      consumes:\n",
    "      - \"application/json\"\n",
    "      - \"application/xml\"\n",
    "      produces:\n",
    "      - \"application/xml\"\n",
    "      - \"application/json\"\n",
    "      parameters:\n",
    "      - in: \"body\"\n",
    "        name: \"body\"\n",
    "        description: \"Pet object that needs to be added to the store\"\n",
    "        required: true\n",
    "        schema:\n",
    "          $ref: \"#/definitions/Pet\"\n",
    "      responses:\n",
    "        \"405\":\n",
    "          description: \"Invalid input\"\n",
    "      security:\n",
    "      - petstore_auth:\n",
    "        - \"write:pets\"\n",
    "        - \"read:pets\""
   ]
  },
  {
   "cell_type": "markdown",
   "metadata": {},
   "source": [
    "### Lista de TODOS:\n",
    "- Schemes\n",
    "- Group (rapidapi)\n"
   ]
  },
  {
   "cell_type": "code",
   "execution_count": 32,
   "metadata": {},
   "outputs": [],
   "source": [
    "def generate_paths(endpoints):\n",
    "    print('paths')\n",
    "    for path in endpoints:\n",
    "        print('\\t'+path['route'])"
   ]
  },
  {
   "cell_type": "code",
   "execution_count": 33,
   "metadata": {},
   "outputs": [
    {
     "name": "stdout",
     "output_type": "stream",
     "text": [
      "paths\n",
      "\t/games/{title}\n",
      "\t/games\n"
     ]
    }
   ],
   "source": [
    "generate_paths(endpoints)"
   ]
  }
 ],
 "metadata": {
  "kernelspec": {
   "display_name": "Python 3",
   "language": "python",
   "name": "python3"
  },
  "language_info": {
   "codemirror_mode": {
    "name": "ipython",
    "version": 3
   },
   "file_extension": ".py",
   "mimetype": "text/x-python",
   "name": "python",
   "nbconvert_exporter": "python",
   "pygments_lexer": "ipython3",
   "version": "3.7.3"
  }
 },
 "nbformat": 4,
 "nbformat_minor": 2
}
